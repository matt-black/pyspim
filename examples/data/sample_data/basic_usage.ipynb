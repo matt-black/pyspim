{
 "cells": [
  {
   "cell_type": "markdown",
   "id": "85315c39-f584-482d-a105-99b57d295fde",
   "metadata": {},
   "source": [
    "# XYZ API\n",
    "basic library usage for analyzing a single diSPIM acquisition collected by stage scanning"
   ]
  },
  {
   "cell_type": "code",
   "execution_count": null,
   "id": "804ea0d2-96b6-4dd9-b106-ccbe3be07acd",
   "metadata": {},
   "outputs": [],
   "source": [
    "import os\n",
    "import math\n",
    "from importlib import reload\n",
    "\n",
    "import cupy\n",
    "import numpy\n",
    "import tifffile\n",
    "import matplotlib.pyplot as plt\n",
    "%matplotlib widget"
   ]
  },
  {
   "cell_type": "markdown",
   "id": "16ccb0b3-fd1b-486a-b714-cddcb4b5a042",
   "metadata": {},
   "source": [
    "## data setup\n",
    "input path to data, PSFs, and acquisition parameters\n",
    "\n",
    "the code will then load the data in and do some automated cropping based on image thresholding"
   ]
  },
  {
   "cell_type": "code",
   "execution_count": null,
   "id": "3c86ecec-cc0c-4912-a963-8442c223cecd",
   "metadata": {},
   "outputs": [],
   "source": [
    "# data folder\n",
    "#root_fldr = os.path.join(\n",
    "#    \"/scratch/gpfs/mb46/ext_spin/2024-06-18\"\n",
    "#)\n",
    "#acq = \"spindle005\"\n",
    "root_fldr = os.path.join(\n",
    "    \"/projects/SHAEVITZ/mb46/fb_dispim\",\n",
    "    \"13hr/2025-06-06\"\n",
    ")\n",
    "acq = \"fruiting_body001\"\n",
    "assert os.path.exists(root_fldr), root_fldr \n",
    "data_path = os.path.join(root_fldr, acq)\n",
    "assert os.path.exists(data_path)\n",
    "\n",
    "# psfs\n",
    "psf_dir = \"/scratch/gpfs/SHAEVITZ/dispim/extract_spindles\"\n",
    "psf_a = numpy.load(os.path.join(psf_dir, \"PSFA_500.npy\"))\n",
    "psf_b = numpy.load(os.path.join(psf_dir, \"PSFB_500.npy\"))"
   ]
  },
  {
   "cell_type": "markdown",
   "id": "8cb2d057-b973-45c3-b4d7-aa3f3b810508",
   "metadata": {},
   "source": [
    "### input acquisition parameters"
   ]
  },
  {
   "cell_type": "code",
   "execution_count": null,
   "id": "41964177-e70c-41d8-a779-6882d3067078",
   "metadata": {},
   "outputs": [],
   "source": [
    "step_size = 0.5      # in microns, dist. b/t image planes\n",
    "pixel_size = 0.1625  # in microns, pixel size\n",
    "theta = math.pi / 4  # angle b/t objective & coverslip"
   ]
  },
  {
   "cell_type": "code",
   "execution_count": null,
   "id": "52028b9e-884d-4f2e-b93f-9957970a9bc2",
   "metadata": {},
   "outputs": [],
   "source": [
    "# these are calculations -- don't change\n",
    "step_pix = step_size / pixel_size\n",
    "step_size_lat = step_size / math.cos(theta)\n",
    "step_pix_lat = step_pix / math.cos(theta)\n",
    "[step_pix, step_pix_lat]"
   ]
  },
  {
   "cell_type": "markdown",
   "id": "8e02cb7b-701c-4784-bb51-7672dd721e13",
   "metadata": {},
   "source": [
    "### load data"
   ]
  },
  {
   "cell_type": "code",
   "execution_count": null,
   "id": "08e74b6d-48d9-47f9-8c33-f741f36a7192",
   "metadata": {},
   "outputs": [],
   "source": [
    "from pyspim.data import dispim as data"
   ]
  },
  {
   "cell_type": "code",
   "execution_count": null,
   "id": "d69bb1c0-63d6-4499-8ec1-6babaf424b29",
   "metadata": {},
   "outputs": [],
   "source": [
    "with data.uManagerAcquisition(data_path, False, numpy) as acq:\n",
    "    a_raw = acq.get('a', 0, 0)\n",
    "    b_raw = acq.get('b', 0, 0)"
   ]
  },
  {
   "cell_type": "code",
   "execution_count": null,
   "id": "df4e9bd8-1da1-428c-b297-f4583be88d45",
   "metadata": {},
   "outputs": [],
   "source": [
    "# camera offset on the pco.edge is 100\n",
    "# subtract this off from the data\n",
    "# NOTE: you can't just do -100 because we've kept the data in uint16_t\n",
    "# and so if you hit negative numbers it wraps\n",
    "a_raw = data.subtract_constant_uint16arr(a_raw, 100)\n",
    "b_raw = data.subtract_constant_uint16arr(b_raw, 100)"
   ]
  },
  {
   "cell_type": "markdown",
   "id": "8bb3838a-bc43-401f-8712-4f9e72f42740",
   "metadata": {},
   "source": [
    "## automated ROI detection"
   ]
  },
  {
   "cell_type": "code",
   "execution_count": null,
   "id": "7b468c93-e5db-4e2b-9ea7-6fa2e12488c3",
   "metadata": {},
   "outputs": [],
   "source": [
    "from pyspim import roi"
   ]
  },
  {
   "cell_type": "code",
   "execution_count": null,
   "id": "e65b3f14-5d6d-47b0-b765-5df2a93a3373",
   "metadata": {},
   "outputs": [],
   "source": [
    "# find ROIs for images A & B\n",
    "roia = roi.detect_roi_3d(a_raw, 'otsu')\n",
    "roib = roi.detect_roi_3d(b_raw, 'otsu')\n",
    "roic = roi.combine_rois(roia, roib)"
   ]
  },
  {
   "cell_type": "code",
   "execution_count": null,
   "id": "151fdf2d-ef65-441e-8f85-b863199d3b9d",
   "metadata": {},
   "outputs": [],
   "source": [
    "a_raw = a_raw[roic[0][0]:roic[0][1],\n",
    "              roic[1][0]:roic[1][1],\n",
    "              roic[2][0]:roic[2][1]]\n",
    "b_raw = b_raw[roic[0][0]:roic[0][1],\n",
    "              roic[1][0]:roic[1][1],\n",
    "              roic[2][0]:roic[2][1]]"
   ]
  },
  {
   "cell_type": "code",
   "execution_count": null,
   "id": "9c3dc683-81bc-48c9-a185-d3ab62d9999c",
   "metadata": {},
   "outputs": [],
   "source": [
    "_, ax = plt.subplots(1, 2)\n",
    "ax[0].imshow(numpy.amax(a_raw, 0), cmap='binary_r')\n",
    "ax[0].set_title('A')\n",
    "ax[1].imshow(numpy.amax(b_raw, 0), cmap='binary_r')\n",
    "ax[1].set_title('B')\n",
    "for i in range(2): ax[i].axis('off')"
   ]
  },
  {
   "cell_type": "markdown",
   "id": "1b42b07f-f758-4c54-9d76-d0781f786efa",
   "metadata": {},
   "source": [
    "## deskewing\n",
    "deskew the input volumes so that the volumes have the normal 'XYZ' coordinate system (images are shaped like ZYX) where Z is normal to the coverslip and the XY axes are the coverslip. "
   ]
  },
  {
   "cell_type": "code",
   "execution_count": null,
   "id": "b99e02b8-6cc1-4c8e-9574-a02072c130d7",
   "metadata": {},
   "outputs": [],
   "source": [
    "from pyspim import deskew as dsk\n",
    "## OPTIONAL: re-crop the deskewed output\n",
    "# for really big volumes, this can be helpful in saving memory\n",
    "# since deskewing tends to generate excess 'black' pixels that \n",
    "# can be easily-trimmed out post-deskewing\n",
    "RECROP = False"
   ]
  },
  {
   "cell_type": "markdown",
   "id": "c831cd95-d848-41fc-abc6-da9646aaf288",
   "metadata": {},
   "source": [
    "### head 'A'"
   ]
  },
  {
   "cell_type": "code",
   "execution_count": null,
   "id": "ef79b2d9-f8c3-4aa8-b368-a7c77e8159a6",
   "metadata": {},
   "outputs": [],
   "source": [
    "a_dsk = dsk.deskew_stage_scan(a_raw, pixel_size, step_size_lat, 1,\n",
    "                              method='orthogonal')\n",
    "a_dsk.shape"
   ]
  },
  {
   "cell_type": "code",
   "execution_count": null,
   "id": "869b33d9-7992-427e-8a48-8ea0af46765c",
   "metadata": {},
   "outputs": [],
   "source": [
    "if RECROP:\n",
    "    roia = roi.detect_roi_3d(a_dsk, 'triangle')\n",
    "    a_dsk = a_dsk[roia[0][0]:roia[0][1],\n",
    "                  roia[1][0]:roia[1][1],\n",
    "                  roia[2][0]:roia[2][1]].astype(numpy.float32)\n",
    "else:\n",
    "    a_dsk = a_dsk.astype(numpy.float32)\n",
    "del a_raw"
   ]
  },
  {
   "cell_type": "markdown",
   "id": "42a88556-99d1-42bb-bcc1-746b7239a8e1",
   "metadata": {},
   "source": [
    "### head 'B'\n",
    "note that this head is typically scanned in the reverse direction of 'A' so the `direction` parameter flips to `-1`"
   ]
  },
  {
   "cell_type": "code",
   "execution_count": null,
   "id": "e8f1a9f6-cecd-49bb-909f-f1c767b6b4bb",
   "metadata": {},
   "outputs": [],
   "source": [
    "b_dsk = dsk.deskew_stage_scan(b_raw, pixel_size, step_size_lat, -1,\n",
    "                              method='orthogonal')"
   ]
  },
  {
   "cell_type": "code",
   "execution_count": null,
   "id": "0ff4e1e3-ee25-435e-b23e-928c93dcbd8a",
   "metadata": {},
   "outputs": [],
   "source": [
    "if RECROP:\n",
    "    roib = roi.detect_roi_3d(b_dsk, 'triangle')\n",
    "    b_dsk = a_dsk[roib[0][0]:roib[0][1],\n",
    "                  roib[1][0]:roib[1][1],\n",
    "                  roib[2][0]:roib[2][1]].astype(numpy.float32)\n",
    "else:\n",
    "    b_dsk = b_dsk.astype(numpy.float32)\n",
    "\n",
    "del b_raw"
   ]
  },
  {
   "cell_type": "markdown",
   "id": "e09597f5-59a7-4d73-ac28-ae61b2e9ef59",
   "metadata": {},
   "source": [
    "### look at deskewed outputs"
   ]
  },
  {
   "cell_type": "code",
   "execution_count": null,
   "id": "437e4e5f-0092-4d06-a86d-192a5b5a1753",
   "metadata": {},
   "outputs": [],
   "source": [
    "_, ax = plt.subplots(2, 1, sharex=True, sharey=True)\n",
    "ax[0].imshow(numpy.amax(a_dsk, 1), cmap='binary_r')\n",
    "ax[0].set_title('A - zx')\n",
    "ax[1].imshow(numpy.amax(b_dsk, 1), cmap='binary_r')\n",
    "ax[1].set_title('B - zx')\n",
    "for i in range(2):\n",
    "    ax[i].axis('off')"
   ]
  },
  {
   "cell_type": "code",
   "execution_count": null,
   "id": "e9a7a002-d2ed-408c-9974-7d0c0b66ee26",
   "metadata": {},
   "outputs": [],
   "source": [
    "_, ax = plt.subplots(1, 1)\n",
    "ax.imshow(numpy.amax(a_dsk, 2), cmap='binary_r')\n",
    "ax.imshow(numpy.amax(b_dsk, 2), cmap='viridis', alpha=0.4)"
   ]
  },
  {
   "cell_type": "code",
   "execution_count": null,
   "id": "db6bc2f6-e55f-4810-a64f-394eda58ef57",
   "metadata": {},
   "outputs": [],
   "source": [
    "_, ysze, _ = a_dsk.shape\n",
    "#a_dsk = a_dsk[:,:ysze//2,:]\n",
    "#b_dsk = b_dsk[:,:ysze//2,:]"
   ]
  },
  {
   "cell_type": "markdown",
   "id": "2ff3d4c3-1bc6-4d20-8109-7dc87a474369",
   "metadata": {},
   "source": [
    "## registration\n",
    "now the two views must be registered to each other so that they can be co-deconvolved. to do this, we first do (optional) phase cross correlation on the maximum projections along each plane. this generates an initial guess for how much we need to rotate, translate, and scale the two views. we then feed this initial guess to an optimization method that will try to maximize the correlation ratio between the two images by transforming 'B' such that it lines up with (static) 'A'."
   ]
  },
  {
   "cell_type": "markdown",
   "id": "8e10606f-768e-4d9c-af37-d0dd75b1c0d8",
   "metadata": {},
   "source": [
    "### phase cross correlation"
   ]
  },
  {
   "cell_type": "code",
   "execution_count": null,
   "id": "2c671a95-8882-4ae7-b460-5101cc860457",
   "metadata": {},
   "outputs": [],
   "source": [
    "## phase cross correlation requires the two images be the same size\n",
    "## there's a utility function that will do this for you\n",
    "from pyspim.util import pad_to_same_size\n",
    "\n",
    "a_dsk, b_dsk = pad_to_same_size(a_dsk, b_dsk)"
   ]
  },
  {
   "cell_type": "code",
   "execution_count": null,
   "id": "cf586991-c098-43c0-8085-172a3665aa5c",
   "metadata": {},
   "outputs": [],
   "source": [
    "from pyspim.reg import pcc"
   ]
  },
  {
   "cell_type": "code",
   "execution_count": null,
   "id": "acd27bfc-ac99-4fc4-8daa-4755dcbb316d",
   "metadata": {},
   "outputs": [],
   "source": [
    "# NOTE: you can get prelim. measurements for all 3, but\n",
    "# only using \n",
    "t0 = pcc.translation_for_volumes(a_dsk, b_dsk, upsample_factor=1)\n",
    "t0 = [0, 0, 0]"
   ]
  },
  {
   "cell_type": "markdown",
   "id": "08383e95-1189-476f-ab08-d05d3f070505",
   "metadata": {},
   "source": [
    "### optimization"
   ]
  },
  {
   "cell_type": "code",
   "execution_count": null,
   "id": "4adb7402-18cc-4bde-aa54-374afc8e3b10",
   "metadata": {},
   "outputs": [],
   "source": [
    "from pyspim.reg import powell"
   ]
  },
  {
   "cell_type": "code",
   "execution_count": null,
   "id": "61c39289-1357-43cd-8747-fde11d4c5def",
   "metadata": {},
   "outputs": [],
   "source": [
    "# formulate initial parameters\n",
    "# NOTE: there are other options for the types of transforms that the code\n",
    "# can (try) to compute. see the code. \n",
    "# NOTE: bounds can also be specified as just the margin (+/-) from the initial parameter\n",
    "transform_string = 't+r+s'\n",
    "if transform_string == 't':\n",
    "    par0 = t0\n",
    "    bounds = [(t-20,t+20) for t in trans]\n",
    "elif transform_string == 't+r':\n",
    "    par0 = numpy.concatenate([t0, numpy.asarray([0,0,0])])\n",
    "    bounds = [(t-20,t+20) for t in t0] + [(-5,5),]*3\n",
    "elif transform_string == 't+r+s':\n",
    "    par0 = numpy.concatenate([t0, numpy.asarray([0,0,0]), numpy.asarray([1,1,1])])\n",
    "    bounds = [(t-20,t+20) for t in t0] + [(-5,5),]*3 + [(0.9,1.1),]*3"
   ]
  },
  {
   "cell_type": "code",
   "execution_count": null,
   "id": "de7369cc-f5dc-4b7c-b064-80bd27308614",
   "metadata": {},
   "outputs": [],
   "source": [
    "# determine launch params so that the GPU is ~saturated\n",
    "# TODO: right now setting block_size's is half guessing, but in the future\n",
    "# we'll want to hit the CUDA occupancy API\n",
    "from pyspim.util import launch_params_for_volume\n",
    "launch_par = launch_params_for_volume(a_dsk.shape, 8, 8, 8)"
   ]
  },
  {
   "cell_type": "code",
   "execution_count": null,
   "id": "e5b8c379-bfe6-4945-8e5d-5ada41bd9c88",
   "metadata": {},
   "outputs": [],
   "source": [
    "# do the optimization\n",
    "# NOTE: this can be done either in a single shot, directly estimating the transform\n",
    "# from the initial parameters (`powell.optimize_affine`) or \"piecewise\" (`powell.optimize_affine_piecewise`)\n",
    "# where the final transform is estimated sequentially by progressively increasing the\n",
    "# transformation complexity, while using the simpler transform as an initial condition\n",
    "# for the next transform in the sequence. \n",
    "# to get a feel for how this works, an example. if the transform is 't+r+s' then\n",
    "# the piecewise optimization will do 't' (just translation), then 't+r'\n",
    "# (translation & rotation), then finally doing the 't+r+s'\n",
    "# (translation & rotation & scaling) \n",
    "T, res = powell.optimize_affine_piecewise(\n",
    "    cupy.asarray(a_dsk), cupy.asarray(b_dsk),\n",
    "    metric='cr', transform=transform_string, \n",
    "    interp_method='cubspl',\n",
    "    par0=par0, bounds=bounds,\n",
    "    kernel_launch_params=launch_par,\n",
    "    verbose=True\n",
    ")\n",
    "\n",
    "# check the results of the optimization\n",
    "# for correlation ratio (metric='cr', values > 0.9 are generally ok)\n",
    "cr = 1 - res.fun\n",
    "print('Optimized Metric {:.2f}'.format(cr))"
   ]
  },
  {
   "cell_type": "markdown",
   "id": "c4565932-6cf1-4200-8333-9f7ba6646964",
   "metadata": {},
   "source": [
    "### transformation\n",
    "use the optimized transform to register 'B' with 'A'"
   ]
  },
  {
   "cell_type": "code",
   "execution_count": null,
   "id": "a46423b9-b8ad-4c38-a81d-8da5e56ca131",
   "metadata": {},
   "outputs": [],
   "source": [
    "from pyspim.interp import affine\n",
    "reload(affine)"
   ]
  },
  {
   "cell_type": "code",
   "execution_count": null,
   "id": "afdf848c-e6b8-4627-9295-dfd770f503de",
   "metadata": {},
   "outputs": [],
   "source": [
    "T"
   ]
  },
  {
   "cell_type": "code",
   "execution_count": null,
   "id": "e61dcc22-8aeb-4acb-856d-8fa4a2576a07",
   "metadata": {},
   "outputs": [],
   "source": [
    "# NOTE: we can reuse the launch parameters because the volume\n",
    "# sizes are the same -- but this isn't necessarily always\n",
    "# the case\n",
    "b_reg = affine.transform(cupy.asarray(b_dsk), T,\n",
    "                         interp_method='cubspl',\n",
    "                         preserve_dtype=True, out_shp=None,\n",
    "                         block_size_z=8, block_size_y=8, block_size_x=8).get()"
   ]
  },
  {
   "cell_type": "code",
   "execution_count": null,
   "id": "38205fde-b6a4-4b55-9c93-034595544c0e",
   "metadata": {},
   "outputs": [],
   "source": [
    "# if a scaling transform is included in the estimated registration transformation\n",
    "# then the output `b_reg` might not be the same size as the input `b_dsk`\n",
    "# but to do deconvolution, you need the input images to be the same size\n",
    "# for simplicity, we'll just crop to the smallest possible size since for the decon\n",
    "# to work you need both images to have content, anyway\n",
    "min_sze = [min(a,b) for a, b in zip(a_dsk.shape, b_reg.shape)]\n",
    "a_dsk = a_dsk[:min_sze[0],:min_sze[1],:min_sze[2]]\n",
    "b_reg = b_reg[:min_sze[0],:min_sze[1],:min_sze[2]]"
   ]
  },
  {
   "cell_type": "code",
   "execution_count": null,
   "id": "0b03986e-bf3b-48b9-b61b-8c772e77ed00",
   "metadata": {},
   "outputs": [],
   "source": [
    "## check results\n",
    "_, ax = plt.subplots(1, 1)\n",
    "ax.imshow(numpy.amax(a_dsk, 0), cmap='binary_r')\n",
    "ax.imshow(numpy.amax(b_reg, 0), cmap='viridis', alpha=0.5)"
   ]
  },
  {
   "cell_type": "markdown",
   "id": "3acc02c2-dfa0-4e25-98a1-10fb7e217f03",
   "metadata": {},
   "source": [
    "## intermediate outputs (zarr saving)\n",
    "for large datasets, we can save memory by doing the deconvolution in chunks.\n",
    "to do this, take the data and save it as a zarr file, which can then be read in small chunks with each being deconvolved and written back out to the corresponding location in the output zarr file.\n",
    "\n",
    "*NOTE*: for small datasets, this isn't necessary and can just call `pyspim.decon.rl.dualview_fft.deconvolve` instead."
   ]
  },
  {
   "cell_type": "code",
   "execution_count": null,
   "id": "276bbc5e-8bd1-4af1-b7d3-f22b6f5d8ab4",
   "metadata": {},
   "outputs": [],
   "source": [
    "## save intermediate outputs\n",
    "import zarr\n",
    "\n",
    "interm_path = \"/scratch/gpfs/mb46/tmp\" # a tmp path to put outputs in\n",
    "if not os.path.exists(interm_path):\n",
    "    os.mkdir(interm_path)"
   ]
  },
  {
   "cell_type": "code",
   "execution_count": null,
   "id": "db80ec9d-db7d-4ebe-8c36-804713c70da0",
   "metadata": {},
   "outputs": [],
   "source": [
    "a_zarr = zarr.creation.open_array(\n",
    "    os.path.join(interm_path, 'a.zarr'),\n",
    "    mode='w',\n",
    "    shape=a_dsk.shape,\n",
    "    dtype=numpy.uint16,\n",
    "    fill_value=0\n",
    ")\n",
    "a_zarr[:] = a_dsk"
   ]
  },
  {
   "cell_type": "code",
   "execution_count": null,
   "id": "a087f1d7-b6d5-4081-b7ea-1dfcaec1f85a",
   "metadata": {},
   "outputs": [],
   "source": [
    "b_zarr = zarr.creation.open_array(\n",
    "    os.path.join(interm_path, 'b.zarr'),\n",
    "    mode='w',\n",
    "    shape=b_reg.shape,\n",
    "    dtype=numpy.uint16,\n",
    "    fill_value=0\n",
    ")\n",
    "b_zarr[:] = b_reg"
   ]
  },
  {
   "cell_type": "markdown",
   "id": "b2979235-4e6a-4c9f-891a-3d794dafb9c1",
   "metadata": {},
   "source": [
    "## deconvolution"
   ]
  },
  {
   "cell_type": "code",
   "execution_count": null,
   "id": "58d9e5ec-6416-4af0-92a7-67ba9fb3d548",
   "metadata": {},
   "outputs": [],
   "source": [
    "from pyspim.decon.rl.dualview_fft import deconvolve_chunkwise"
   ]
  },
  {
   "cell_type": "code",
   "execution_count": null,
   "id": "22a136c8-155d-42f9-869c-75b2b9b55874",
   "metadata": {},
   "outputs": [],
   "source": [
    "out = zarr.creation.open_array(\n",
    "    os.path.join(interm_path, 'out.zarr'),\n",
    "    mode='w',\n",
    "    shape=b_reg.shape,\n",
    "    dtype=numpy.float32,\n",
    "    fill_value=0\n",
    ")"
   ]
  },
  {
   "cell_type": "code",
   "execution_count": null,
   "id": "c27a5d4b-b886-4e3e-9571-b33b611087e9",
   "metadata": {},
   "outputs": [],
   "source": [
    "psf_a.shape"
   ]
  },
  {
   "cell_type": "code",
   "execution_count": null,
   "id": "ae9035d7-de59-48cf-9bcb-a2d030e26776",
   "metadata": {},
   "outputs": [],
   "source": [
    "deconvolve_chunkwise(\n",
    "    a_zarr, b_zarr, out,\n",
    "    [128, 512, 512], [40,40,40],\n",
    "    cupy.asarray(psf_a), cupy.asarray(psf_b),\n",
    "    cupy.asarray(psf_a[::-1,::-1,::-1]), cupy.asarray(psf_b[::-1,::-1,::-1]),\n",
    "    'additive', 20, 1e-6, \n",
    "    False, None, 0, 0,\n",
    "    True\n",
    ")"
   ]
  },
  {
   "cell_type": "code",
   "execution_count": null,
   "id": "5ad56016-6f75-4d85-a9e7-6e64d97a9713",
   "metadata": {},
   "outputs": [],
   "source": [
    "decon = zarr.load(os.path.join(interm_path, 'out.zarr'))\n",
    "decon.shape"
   ]
  },
  {
   "cell_type": "code",
   "execution_count": null,
   "id": "355fca40-06e7-4f0e-afea-e103f5b152d6",
   "metadata": {},
   "outputs": [],
   "source": [
    "## check results\n",
    "_, ax = plt.subplots(2, 2)\n",
    "ax[0,0].imshow(numpy.amax(decon, 0).T, cmap='binary_r', vmax=700)\n",
    "ax[1,0].imshow(numpy.amax(decon, 2), cmap='binary_r', vmax=700)\n",
    "ax[0,1].imshow(numpy.amax(decon, 1).T, cmap='binary_r', vmax=700)\n",
    "#ax[1,1].imshow(numpy.zeros((decon.shape[1],decon.shape[1])), cmap='binary_r')\n",
    "for i in range(2):\n",
    "    for j in range(2):\n",
    "        ax[i,j].axis('off')\n",
    "plt.tight_layout()"
   ]
  },
  {
   "cell_type": "code",
   "execution_count": null,
   "id": "29ff2b4b-0fff-4478-b435-991b82b1287b",
   "metadata": {},
   "outputs": [],
   "source": [
    "size_gb = decon.size / 1e9\n",
    "size_gb"
   ]
  },
  {
   "cell_type": "code",
   "execution_count": null,
   "id": "52e9fc7e-de1f-497f-8821-1a0879dadeb6",
   "metadata": {},
   "outputs": [],
   "source": [
    "# optional: write to TIF file for viewing in Fiji/ImageJ/whatever\n",
    "# NOTE: this does support BigTIFF and for really large d\n",
    "tifffile.imwrite(os.path.join(data_path, 'decon.ome.tif'),\n",
    "                 numpy.round(decon).clip(0, 2**16).astype(numpy.uint16), \n",
    "                 imagej=True,\n",
    "                 resolution=(1/0.1625, 1/0.1625),\n",
    "                 metadata={\n",
    "                     'unit' : 'um',\n",
    "                     'axes' : 'ZYX',\n",
    "                     'spacing' : 0.1625,\n",
    "                 })"
   ]
  }
 ],
 "metadata": {
  "kernelspec": {
   "display_name": "Python 3 (ipykernel)",
   "language": "python",
   "name": "python3"
  },
  "language_info": {
   "codemirror_mode": {
    "name": "ipython",
    "version": 3
   },
   "file_extension": ".py",
   "mimetype": "text/x-python",
   "name": "python",
   "nbconvert_exporter": "python",
   "pygments_lexer": "ipython3",
   "version": "3.12.7"
  }
 },
 "nbformat": 4,
 "nbformat_minor": 5
}
